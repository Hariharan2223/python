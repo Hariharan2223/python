{
 "cells": [
  {
   "cell_type": "markdown",
   "metadata": {},
   "source": [
    "LIST\n"
   ]
  },
  {
   "cell_type": "code",
   "execution_count": null,
   "metadata": {},
   "outputs": [],
   "source": [
    "bikes=[\"RE\",\"triumph\",\"maverick\",\"FZ\",\"RC\",\"R15\"]\n",
    "companies=[\"busoft\",\"infosys\",\"TCS\",\"L&T\",\"Wipro\",\"Microsoft\",\"Google\",\"Accenture\",\"Hcl\",\"ford\",\"sutherland\",\"morgan-stanley\",\"atos\",\"evident\"]\n",
    "print(bikes,\"\\n\",companies,\"\\n\",type(companies),\"\\n\",type(bikes))\n",
    "\n",
    "bikes1=set(bikes)\n",
    "companies1=set(companies)\n",
    "print(bikes1,\"\\n\",companies1,\"\\n\",type(companies1),\"\\n\",type(bikes1))\n",
    "\n",
    "bikes2=tuple(bikes)\n",
    "companies2=tuple(companies)\n",
    "print(bikes2,\"\\n\",companies2,\"\\n\",type(companies2),\"\\n\",type(bikes2))"
   ]
  },
  {
   "cell_type": "code",
   "execution_count": null,
   "metadata": {},
   "outputs": [],
   "source": [
    "companies.append(\"testyantra\")\n",
    "print(companies)"
   ]
  },
  {
   "cell_type": "markdown",
   "metadata": {},
   "source": [
    "LIST METHODS"
   ]
  },
  {
   "cell_type": "markdown",
   "metadata": {},
   "source": []
  },
  {
   "cell_type": "code",
   "execution_count": null,
   "metadata": {},
   "outputs": [],
   "source": [
    "\n",
    "companies.remove(\"testyantra\")\n",
    "print(companies)\n"
   ]
  },
  {
   "cell_type": "code",
   "execution_count": null,
   "metadata": {},
   "outputs": [],
   "source": [
    "bikes.insert(1,\"jawa\")\n",
    "print(bikes)\n"
   ]
  },
  {
   "cell_type": "code",
   "execution_count": null,
   "metadata": {},
   "outputs": [],
   "source": [
    "scooty=[\"activa\",\"fascino\",\"jupiter\",\"zest\"]\n",
    "bikes.extend(scooty)\n",
    "print(bikes)"
   ]
  },
  {
   "cell_type": "code",
   "execution_count": null,
   "metadata": {},
   "outputs": [],
   "source": [
    "pos_R15=bikes.index(\"R15\")\n",
    "print(pos_R15)\n",
    "print(bikes)"
   ]
  },
  {
   "cell_type": "code",
   "execution_count": null,
   "metadata": {},
   "outputs": [],
   "source": [
    "popp=companies.pop(-1)\n",
    "print(popp)\n",
    "print(companies)"
   ]
  },
  {
   "cell_type": "code",
   "execution_count": null,
   "metadata": {},
   "outputs": [],
   "source": [
    "count=bikes.count(\"jawa\")\n",
    "print(count)\n",
    "len(bikes)"
   ]
  },
  {
   "cell_type": "code",
   "execution_count": null,
   "metadata": {},
   "outputs": [],
   "source": [
    "bikes.sort()\n",
    "print(bikes)"
   ]
  },
  {
   "cell_type": "code",
   "execution_count": null,
   "metadata": {},
   "outputs": [],
   "source": [
    "bikes.reverse()\n",
    "print(bikes)"
   ]
  },
  {
   "cell_type": "code",
   "execution_count": null,
   "metadata": {},
   "outputs": [],
   "source": [
    "bike_copy=bikes.copy()\n",
    "bikes_copy=bikes\n",
    "print(id(bikes),id(bike_copy))\n",
    "print(id(bikes),id(bikes_copy))"
   ]
  },
  {
   "cell_type": "code",
   "execution_count": null,
   "metadata": {},
   "outputs": [],
   "source": [
    "bikes_copy.clear()\n",
    "print(bikes_copy)"
   ]
  },
  {
   "cell_type": "code",
   "execution_count": 29,
   "metadata": {},
   "outputs": [
    {
     "name": "stdout",
     "output_type": "stream",
     "text": [
      "[]\n"
     ]
    }
   ],
   "source": [
    "print(bikes)"
   ]
  }
 ],
 "metadata": {
  "kernelspec": {
   "display_name": "venv",
   "language": "python",
   "name": "python3"
  },
  "language_info": {
   "codemirror_mode": {
    "name": "ipython",
    "version": 3
   },
   "file_extension": ".py",
   "mimetype": "text/x-python",
   "name": "python",
   "nbconvert_exporter": "python",
   "pygments_lexer": "ipython3",
   "version": "3.12.0"
  }
 },
 "nbformat": 4,
 "nbformat_minor": 2
}
