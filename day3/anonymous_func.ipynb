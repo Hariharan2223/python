{
 "cells": [
  {
   "cell_type": "markdown",
   "metadata": {},
   "source": [
    "Anonymous Function:"
   ]
  },
  {
   "cell_type": "markdown",
   "metadata": {},
   "source": [
    "write lambda function to find squares of numbers ending with 5 upto 100\n",
    "(5,15,25,35,....95)"
   ]
  },
  {
   "cell_type": "code",
   "execution_count": 1,
   "metadata": {},
   "outputs": [
    {
     "name": "stdout",
     "output_type": "stream",
     "text": [
      "8\n"
     ]
    }
   ],
   "source": [
    "\n"
   ]
  },
  {
   "cell_type": "code",
   "execution_count": 36,
   "metadata": {},
   "outputs": [
    {
     "name": "stdout",
     "output_type": "stream",
     "text": [
      "[1, 2, 4, 8, 16, 32, 64, 128]\n",
      "255\n"
     ]
    }
   ],
   "source": [
    "li=[]\n",
    "a=1\n",
    "li+=[a]\n",
    "r=2\n",
    "res=a*r\n",
    "for i in range(151):\n",
    "    if i == res:\n",
    "        li+=[res]\n",
    "        a=res\n",
    "        res=a*r\n",
    "print(li)\n",
    "\n",
    "from functools import reduce\n",
    "print(reduce(sum,li))\n"
   ]
  },
  {
   "cell_type": "code",
   "execution_count": 8,
   "metadata": {},
   "outputs": [
    {
     "name": "stdout",
     "output_type": "stream",
     "text": [
      "[5, 15, 25, 35, 45, 55, 65, 75, 85, 95]\n",
      "[25, 225, 625, 1225, 2025, 3025, 4225, 5625, 7225, 9025]\n"
     ]
    }
   ],
   "source": [
    "li=[]\n",
    "for i in range(101):\n",
    "    if i%5==0 and i%2==1:\n",
    "        li+=[i]\n",
    "print(li)\n",
    "res=list(map(lambda x:x**2,li))\n",
    "print(res)"
   ]
  },
  {
   "cell_type": "code",
   "execution_count": 24,
   "metadata": {},
   "outputs": [
    {
     "name": "stdout",
     "output_type": "stream",
     "text": [
      "[5, 13, 21, 29, 37, 45, 53, 61, 69, 77, 85, 93]\n",
      "588\n"
     ]
    }
   ],
   "source": [
    "\n",
    "inp=list(map(lambda x:x,range(5,100,8)))\n",
    "print(inp)\n",
    "# def sum(x):\n",
    "#     sum=0\n",
    "#     for i in x:\n",
    "#         sum=sum+i\n",
    "#     return sum\n",
    "\n",
    "\n",
    "def sum(x,y):\n",
    "    return x+y\n",
    "\n",
    "\n",
    "# print(list(map(lambda x:sum(x),inp)))\n",
    "\n",
    "from functools import reduce\n",
    "print(reduce(sum,inp))\n",
    "\n"
   ]
  },
  {
   "cell_type": "code",
   "execution_count": 35,
   "metadata": {},
   "outputs": [
    {
     "name": "stdout",
     "output_type": "stream",
     "text": [
      "['BUSOFT', 'INFOSYS', 'TCS', 'L&T', 'WIPRO']\n",
      "['busoft', 'infosys', 'tcs', 'l&t', 'wipro']\n",
      "['Busoft', 'Infosys', 'Tcs', 'L&T', 'Wipro']\n"
     ]
    }
   ],
   "source": [
    "li=[\"busoft\",\"infosys\",\"TCS\",\"L&T\",\"Wipro\"]\n",
    "res1=[x.upper() for x in li ]\n",
    "res2=[x.lower() for x in li ]\n",
    "res3=[x.title() for x in li]\n",
    "print(res1)\n",
    "print(res2)\n",
    "print(res3)"
   ]
  }
 ],
 "metadata": {
  "kernelspec": {
   "display_name": "venv",
   "language": "python",
   "name": "python3"
  },
  "language_info": {
   "codemirror_mode": {
    "name": "ipython",
    "version": 3
   },
   "file_extension": ".py",
   "mimetype": "text/x-python",
   "name": "python",
   "nbconvert_exporter": "python",
   "pygments_lexer": "ipython3",
   "version": "3.12.0"
  }
 },
 "nbformat": 4,
 "nbformat_minor": 2
}
