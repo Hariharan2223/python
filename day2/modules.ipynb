{
 "cells": [
  {
   "cell_type": "code",
   "execution_count": 1,
   "metadata": {},
   "outputs": [
    {
     "name": "stdout",
     "output_type": "stream",
     "text": [
      "buvi\n",
      "Help on function hello in module modules1:\n",
      "\n",
      "hello()\n",
      "    hello buddies1\n",
      "\n",
      "hi\n",
      "('buvi', '23')\n"
     ]
    }
   ],
   "source": [
    "\n",
    "from modules1 import  *\n",
    "help(hello)\n",
    "print(hello())\n",
    "print(hi(name,age))\n",
    "\n",
    "\n"
   ]
  },
  {
   "cell_type": "code",
   "execution_count": null,
   "metadata": {},
   "outputs": [],
   "source": []
  }
 ],
 "metadata": {
  "kernelspec": {
   "display_name": "venv",
   "language": "python",
   "name": "python3"
  },
  "language_info": {
   "codemirror_mode": {
    "name": "ipython",
    "version": 3
   },
   "file_extension": ".py",
   "mimetype": "text/x-python",
   "name": "python",
   "nbconvert_exporter": "python",
   "pygments_lexer": "ipython3",
   "version": "3.12.0"
  }
 },
 "nbformat": 4,
 "nbformat_minor": 2
}
