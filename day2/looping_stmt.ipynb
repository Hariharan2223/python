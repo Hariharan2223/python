{
 "cells": [
  {
   "cell_type": "code",
   "execution_count": 11,
   "metadata": {},
   "outputs": [
    {
     "name": "stdout",
     "output_type": "stream",
     "text": [
      "name : hari\n",
      "age : 22\n",
      "yop : 2023\n",
      "email : hari2gmail.com\n",
      "college : SMIT\n",
      "gender : male\n",
      "degree : B.Tech_IT\n",
      "fav_food : biryani\n",
      "height : 182cm\n",
      "weight : 65kg\n"
     ]
    }
   ],
   "source": [
    "bio_Dict={\"name\":\"hari\",\"age\":22,\"yop\":2023,\n",
    "          \"email\":\"hari2gmail.com\",\"college\":\"SMIT\",\n",
    "          \"gender\":\"male\",\"degree\":\"B.Tech_IT\",\"fav_food\":\"biryani\",\n",
    "          \"height\":\"182cm\",\"weight\":\"65kg\"}\n",
    "for i in bio_Dict:\n",
    "  bio_Dict[i]\n",
    "  print(i,\":\",bio_Dict[i])\n",
    "    "
   ]
  }
 ],
 "metadata": {
  "kernelspec": {
   "display_name": "venv",
   "language": "python",
   "name": "python3"
  },
  "language_info": {
   "codemirror_mode": {
    "name": "ipython",
    "version": 3
   },
   "file_extension": ".py",
   "mimetype": "text/x-python",
   "name": "python",
   "nbconvert_exporter": "python",
   "pygments_lexer": "ipython3",
   "version": "3.12.0"
  }
 },
 "nbformat": 4,
 "nbformat_minor": 2
}
