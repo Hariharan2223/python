{
 "cells": [
  {
   "cell_type": "code",
   "execution_count": 2,
   "metadata": {},
   "outputs": [
    {
     "name": "stdout",
     "output_type": "stream",
     "text": [
      "Rs.10000 fine for driving without license\n"
     ]
    }
   ],
   "source": [
    "age=int(input(\"enter  your age: \"))\n",
    "if (age>18):\n",
    "    print(\"eligible to drive\")\n",
    "else:\n",
    "    print(\"Rs.10000 fine for driving without license\")"
   ]
  },
  {
   "cell_type": "code",
   "execution_count": 16,
   "metadata": {},
   "outputs": [
    {
     "name": "stdout",
     "output_type": "stream",
     "text": [
      "pay Rs.250 for parking\n"
     ]
    }
   ],
   "source": [
    "vehicle_Type=int(input(\"enter ur vehicle type\"))\n",
    "if (vehicle_Type==2):\n",
    "    print(\"pay Rs.100 for parking\")\n",
    "elif(vehicle_Type==3):\n",
    "    print(\"pay Rs.250 for parking\")\n",
    "elif(vehicle_Type==4):\n",
    "    print(\"pay Rs.500 for parking\")\n",
    "else:\n",
    "    print(\"enter a valid type\")"
   ]
  },
  {
   "cell_type": "code",
   "execution_count": 23,
   "metadata": {},
   "outputs": [
    {
     "name": "stdout",
     "output_type": "stream",
     "text": [
      "go to lower basement 1\n",
      "pay Rs 20  for parking\n"
     ]
    }
   ],
   "source": [
    "vehicle_Type=int(input(\"enter ur vehicle type\"))\n",
    "if (vehicle_Type==2 or vehicle_Type==3):\n",
    "    print(\"go to lower basement 1\")\n",
    "    hours=int(input(\"enter parking hours needed\"))\n",
    "    if (vehicle_Type==2 and  ):\n",
    "        print(\"pay Rs\",10*hours,\" for parking\")\n",
    "    elif (vehicle_Type==3):\n",
    "         print(\"pay Rs\",25*hours,\" for parking\") \n",
    "elif( vehicle_Type==4):\n",
    "    print(\"go to lower basement 2\")\n",
    "    hours=int(input(\"enter parking hours needed\"))\n",
    "    \n",
    "    if (vehicle_Type==4):\n",
    "        print(\"pay Rs\",40*hours,\" for parking\")\n",
    "else:\n",
    "    print(\"enter a valid type\")\n",
    "    \n"
   ]
  },
  {
   "cell_type": "code",
   "execution_count": null,
   "metadata": {},
   "outputs": [],
   "source": []
  },
  {
   "cell_type": "code",
   "execution_count": null,
   "metadata": {},
   "outputs": [],
   "source": []
  }
 ],
 "metadata": {
  "kernelspec": {
   "display_name": "venv",
   "language": "python",
   "name": "python3"
  },
  "language_info": {
   "codemirror_mode": {
    "name": "ipython",
    "version": 3
   },
   "file_extension": ".py",
   "mimetype": "text/x-python",
   "name": "python",
   "nbconvert_exporter": "python",
   "pygments_lexer": "ipython3",
   "version": "3.12.0"
  }
 },
 "nbformat": 4,
 "nbformat_minor": 2
}
