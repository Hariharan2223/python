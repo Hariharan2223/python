{
 "cells": [
  {
   "cell_type": "code",
   "execution_count": null,
   "metadata": {},
   "outputs": [],
   "source": [
    "my_name=\"hari\"  #snake case(i.e) seperated by underscore\n",
    "my_age=22\n",
    "yop=2023\n",
    "salary=10000+100000j\n",
    "degree=\"B.Tech-IT\"\n",
    "percentage=85.2\n",
    "isemployed=True\n",
    "gender=\"male\"\n",
    "myInterest=[\"cricket\",\"table tennis\",\"kabaddi\",\"badminton\"] #Camel Case (i.e) first word will be small case following will be large case\n",
    "MyFriends=(\"buvi\",\"kowsalya\",\"abi\",\"joe\")  #Pascal Case (i.e) all words starting letter will be in large case.\n",
    "hobbies={\"sports\",\"gaming\",\"cooking\",\"gaming\"}\n",
    "parents={\"father\":\"Dharmalingam\",\"mother\":\"Anuradha\"}\n",
    "print(f\"Hi everyone!! I am {my_name} and i am {my_age}.\\nIn {yop}, I have completed {degree} with the percentage of {percentage}%.\\nAbout my parents, father {parents['father']} is a business man and mother {parents['mother'] } is a house wife.\")\n",
    "print(\"My hobbies are {}.\\nEvery weekend i go out with my friends {} and \\nPlay games like {} \".format(hobbies,friends,interest))"
   ]
  },
  {
   "cell_type": "code",
   "execution_count": null,
   "metadata": {},
   "outputs": [],
   "source": [
    "import keyword\n",
    "a=keyword.kwlist\n",
    "count=0\n",
    "for i in a:\n",
    "    print(i,end=\" , \")\n",
    "    count+=1\n",
    "    if count%7==0:\n",
    "        print(\"\\n\")\n",
    "    \n",
    "print(\"Total number of keywords in python:\",count)\n"
   ]
  },
  {
   "cell_type": "code",
   "execution_count": 41,
   "metadata": {},
   "outputs": [
    {
     "name": "stdout",
     "output_type": "stream",
     "text": [
      "__doc__ , __loader__ , __name__ , __package__ , __spec__ , acos , acosh , \n",
      "\n",
      "asin , asinh , atan , atan2 , atanh , cbrt , ceil , \n",
      "\n",
      "comb , copysign , cos , cosh , degrees , dist , e , \n",
      "\n",
      "erf , erfc , exp , exp2 , expm1 , fabs , factorial , \n",
      "\n",
      "floor , fmod , frexp , fsum , gamma , gcd , hypot , \n",
      "\n",
      "inf , isclose , isfinite , isinf , isnan , isqrt , lcm , \n",
      "\n",
      "ldexp , lgamma , log , log10 , log1p , log2 , modf , \n",
      "\n",
      "nan , nextafter , perm , pi , pow , prod , radians , \n",
      "\n",
      "remainder , sin , sinh , sqrt , sumprod , tan , tanh , \n",
      "\n",
      "tau , trunc , ulp , "
     ]
    }
   ],
   "source": [
    "import math\n",
    "a=dir(math)\n",
    "count=0\n",
    "for i in a:\n",
    "    print(i,end=\" , \")\n",
    "    count+=1\n",
    "    if count%7==0:\n",
    "        print(\"\\n\")"
   ]
  },
  {
   "cell_type": "code",
   "execution_count": 64,
   "metadata": {},
   "outputs": [
    {
     "name": "stdout",
     "output_type": "stream",
     "text": [
      "25.0\n",
      "10.0\n",
      "3.0\n",
      "3\n",
      "108\n",
      "56\n",
      "120\n",
      "3.141592653589793\n",
      "1.0\n",
      "5\n",
      "12\n",
      "13\n",
      "12.6\n"
     ]
    },
    {
     "ename": "TypeError",
     "evalue": "nextafter() takes exactly 2 positional arguments (3 given)",
     "output_type": "error",
     "traceback": [
      "\u001b[1;31m---------------------------------------------------------------------------\u001b[0m",
      "\u001b[1;31mTypeError\u001b[0m                                 Traceback (most recent call last)",
      "Cell \u001b[1;32mIn[64], line 16\u001b[0m\n\u001b[0;32m     14\u001b[0m \u001b[38;5;28mprint\u001b[39m(math\u001b[38;5;241m.\u001b[39mceil(\u001b[38;5;241m12.3\u001b[39m))\n\u001b[0;32m     15\u001b[0m \u001b[38;5;28mprint\u001b[39m(math\u001b[38;5;241m.\u001b[39mfabs(\u001b[38;5;241m-\u001b[39m\u001b[38;5;241m12.6\u001b[39m))\n\u001b[1;32m---> 16\u001b[0m \u001b[38;5;28mprint\u001b[39m(\u001b[43mmath\u001b[49m\u001b[38;5;241;43m.\u001b[39;49m\u001b[43mnextafter\u001b[49m\u001b[43m(\u001b[49m\u001b[38;5;241;43m5.24324\u001b[39;49m\u001b[43m,\u001b[49m\u001b[38;5;241;43m2\u001b[39;49m\u001b[43m,\u001b[49m\u001b[38;5;241;43m2\u001b[39;49m\u001b[43m)\u001b[49m)\n",
      "\u001b[1;31mTypeError\u001b[0m: nextafter() takes exactly 2 positional arguments (3 given)"
     ]
    }
   ],
   "source": [
    "print(math.pow(5,2))\n",
    "print(math.sqrt(100))\n",
    "print(math.cbrt(27))\n",
    "print(math.gcd(12,27,9))\n",
    "print(math.lcm(12,27,9))\n",
    "a=[2,3,4]\n",
    "b=[5,6,7]\n",
    "print(math.sumprod(a,b)) #multiply the same index value and give result of sum of the product\n",
    "print(math.factorial(5))\n",
    "print(math.pi)\n",
    "print(math.remainder(5,2))\n",
    "print(math.trunc(5.7987))\n",
    "print(math.floor(12.3))\n",
    "print(math.ceil(12.3))\n",
    "print(math.fabs(-12.6))\n",
    "print(math.nextafter(5.24324,2,2))\n",
    "\n"
   ]
  },
  {
   "cell_type": "code",
   "execution_count": null,
   "metadata": {},
   "outputs": [],
   "source": []
  },
  {
   "cell_type": "code",
   "execution_count": null,
   "metadata": {},
   "outputs": [],
   "source": []
  }
 ],
 "metadata": {
  "kernelspec": {
   "display_name": "venv",
   "language": "python",
   "name": "python3"
  },
  "language_info": {
   "codemirror_mode": {
    "name": "ipython",
    "version": 3
   },
   "file_extension": ".py",
   "mimetype": "text/x-python",
   "name": "python",
   "nbconvert_exporter": "python",
   "pygments_lexer": "ipython3",
   "version": "3.12.0"
  }
 },
 "nbformat": 4,
 "nbformat_minor": 2
}
