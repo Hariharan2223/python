{
 "cells": [
  {
   "cell_type": "code",
   "execution_count": null,
   "metadata": {},
   "outputs": [],
   "source": [
    "def add(a,b):\n",
    "    \"\"\"positional argument function\"\"\"\n",
    "    return a+b\n",
    "a=add(5,2)\n",
    "print(a)\n",
    "def sub():\n",
    "    \"\"\"normal  function\"\"\"\n",
    "    return 5-2\n",
    "b=sub()\n",
    "print(b)\n",
    "def mul(a,b=2):\n",
    "    \"\"\"default argument function\"\"\"\n",
    "    return a*b\n",
    "c=mul(5)\n",
    "print(c)\n",
    "def div(a=10,b=2):\n",
    "    \"\"\"keyword argument function\"\"\"\n",
    "    return a/b\n",
    "d=div(20,2)\n",
    "print(d)\n"
   ]
  }
 ],
 "metadata": {
  "language_info": {
   "name": "python"
  }
 },
 "nbformat": 4,
 "nbformat_minor": 2
}
