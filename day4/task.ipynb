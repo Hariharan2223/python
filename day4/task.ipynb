{
 "cells": [
  {
   "cell_type": "code",
   "execution_count": 24,
   "metadata": {},
   "outputs": [
    {
     "name": "stdout",
     "output_type": "stream",
     "text": [
      "\n"
     ]
    }
   ],
   "source": [
    "file=open(\"bu.txt\",\"r+\")\n",
    "\n",
    "file.write(\"Name:\\t\\t\\tD.Hariharan\\nDesignation:\\tJunior Software Trainee\\nWorking in:\\t\\tBUSOFT\\nExperience:\\t\\tFresher\\nSkills:\\t\\t\\tPython,Web Development,SQL,Testing\")\n",
    "content = file.read()\n",
    "print(content)\n",
    "file.close()"
   ]
  },
  {
   "cell_type": "code",
   "execution_count": 12,
   "metadata": {},
   "outputs": [],
   "source": [
    "# res=file.read()\n",
    "# print(res)\n",
    "# file.close()"
   ]
  },
  {
   "cell_type": "code",
   "execution_count": 16,
   "metadata": {},
   "outputs": [
    {
     "name": "stdout",
     "output_type": "stream",
     "text": [
      "Name:\t\t\tD.Hariharan\n",
      "Designation:\tJunior Software Trainee\n",
      "Working in:\t\tBUSOFT\n",
      "Experience:\t\tFresher\n",
      "Skills:\t\t\tPython,Web Development,SQL,Testing\n"
     ]
    }
   ],
   "source": [
    "with open(\"bu.txt\", \"r+\") as file:\n",
    "    content = file.read()\n",
    "    print(content)\n"
   ]
  },
  {
   "cell_type": "code",
   "execution_count": 21,
   "metadata": {},
   "outputs": [
    {
     "name": "stdout",
     "output_type": "stream",
     "text": [
      "511\n"
     ]
    }
   ],
   "source": [
    "with open(\"sample.txt\", \"r+\") as file:\n",
    "    content = file.read()\n",
    "    res=content.split()\n",
    "    print(len(res))\n"
   ]
  }
 ],
 "metadata": {
  "kernelspec": {
   "display_name": "venv",
   "language": "python",
   "name": "python3"
  },
  "language_info": {
   "codemirror_mode": {
    "name": "ipython",
    "version": 3
   },
   "file_extension": ".py",
   "mimetype": "text/x-python",
   "name": "python",
   "nbconvert_exporter": "python",
   "pygments_lexer": "ipython3",
   "version": "3.12.0"
  }
 },
 "nbformat": 4,
 "nbformat_minor": 2
}
