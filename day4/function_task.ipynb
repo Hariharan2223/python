{
 "cells": [
  {
   "cell_type": "markdown",
   "metadata": {},
   "source": [
    "### write a function with two default values:values are 1 and 2\n",
    "### a.Function call with no args\n",
    "### a.Function call with one args\n",
    "### a.Function call with two args\n",
    "### a.Function call with keyword args"
   ]
  },
  {
   "cell_type": "code",
   "execution_count": 2,
   "metadata": {},
   "outputs": [
    {
     "name": "stdout",
     "output_type": "stream",
     "text": [
      "3\n",
      "12\n",
      "30\n",
      "40\n"
     ]
    }
   ],
   "source": [
    "def add(n1=1,n2=2):\n",
    "    return(n1+n2)\n",
    "\n",
    "res1=add()\n",
    "res2=add(10)\n",
    "res3=add(10,20)\n",
    "res4=add(n1=20,n2=20)\n",
    "print(res1)\n",
    "print(res2)\n",
    "print(res3)\n",
    "print(res4)\n"
   ]
  },
  {
   "cell_type": "markdown",
   "metadata": {},
   "source": [
    "### write a 2 function for variable length argument\n",
    "### 1.sum of the values\n",
    "### 2.product of the values\n",
    "\n",
    "### write a function with both variable length argument and keyword variable length argument in same function"
   ]
  },
  {
   "cell_type": "code",
   "execution_count": 3,
   "metadata": {},
   "outputs": [
    {
     "name": "stdout",
     "output_type": "stream",
     "text": [
      "sum 10\n",
      "n1: 1\n",
      "n2: 2\n",
      "n3: 3\n",
      "n4: 4\n",
      "24\n"
     ]
    }
   ],
   "source": [
    "def sum(*args,**kargs):\n",
    "    sum=0\n",
    "    for i in args:\n",
    "        sum+=i\n",
    "    print(\"sum\",sum)\n",
    "    product=1\n",
    "    for key, value in kargs.items():\n",
    "        # print(f\"{key}: {value}\")\n",
    "        product*=value\n",
    "    print(\"product\",product)\n",
    "\n",
    "sum(1,2,3,4,n1=1,n2=2,n3=3,n4=4)"
   ]
  }
 ],
 "metadata": {
  "kernelspec": {
   "display_name": "venv",
   "language": "python",
   "name": "python3"
  },
  "language_info": {
   "codemirror_mode": {
    "name": "ipython",
    "version": 3
   },
   "file_extension": ".py",
   "mimetype": "text/x-python",
   "name": "python",
   "nbconvert_exporter": "python",
   "pygments_lexer": "ipython3",
   "version": "3.12.0"
  }
 },
 "nbformat": 4,
 "nbformat_minor": 2
}
