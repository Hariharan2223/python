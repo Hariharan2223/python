{
 "cells": [
  {
   "cell_type": "code",
   "execution_count": 6,
   "metadata": {},
   "outputs": [
    {
     "name": "stdout",
     "output_type": "stream",
     "text": [
      "bill no:00501\n",
      "Hotel name:Hotel Sri Annamalaiyar\n",
      "s.no\tfood item\trate\tquantity\ttotal\n",
      "01\tIdly\t\t10.00\t10\t\t100.00\n",
      "02\tdosa\t\t50.00\t5\t\t250.00\n",
      "03\tpoori\t\t60.00\t5\t\t300.00\n",
      "04\tpongal\t\t40.00\t4\t\t160.00\n",
      "05\tvada\t\t15.00\t20\t\t300.00\n",
      "Thank you for ordering\n",
      "Grand Total:1110.00\n"
     ]
    }
   ],
   "source": [
    "from foods import *\n",
    "\n",
    "bill_no=501\n",
    "grand_Total=0\n",
    "print(f\"bill no:{bill_no:05d}\")\n",
    "print(f\"Hotel name:{hotel}\")\n",
    "print(f\"s.no\\tfood item\\trate\\tquantity\\ttotal\")\n",
    "sl_no=1\n",
    "while True:\n",
    "    food=int(input(\"select the food items:\\n1-Idly\\n2-Dosa\\n3-poori\\n4-pongal\\n5-vada\\nDone Ordering\"))\n",
    "    \n",
    "    if food==1:\n",
    "        quantity=int(input(\"enter the quantity\"))\n",
    "        item,rate=idly()\n",
    "        total=rate*quantity\n",
    "        grand_Total+=total\n",
    "        print(f\"{sl_no:02d}\\t{item}\\t\\t{rate:.2f}\\t{quantity}\\t\\t{total:.2f}\")\n",
    "    elif food==2:\n",
    "        quantity=int(input(\"enter the quantity\"))\n",
    "        item,rate=dosa()\n",
    "        total=rate*quantity\n",
    "        grand_Total+=total\n",
    "        print(f\"{sl_no:02d}\\t{item}\\t\\t{rate:.2f}\\t{quantity}\\t\\t{total:.2f}\")\n",
    "    elif food==3:\n",
    "        quantity=int(input(\"enter the quantity\"))\n",
    "        item,rate=poori()\n",
    "        total=rate*quantity\n",
    "        grand_Total+=total\n",
    "        print(f\"{sl_no:02d}\\t{item}\\t\\t{rate:.2f}\\t{quantity}\\t\\t{total:.2f}\")\n",
    "    elif food==4:\n",
    "        quantity=int(input(\"enter the quantity\"))\n",
    "        item,rate=pongal()\n",
    "        total=rate*quantity\n",
    "        grand_Total+=total\n",
    "        print(f\"{sl_no:02d}\\t{item}\\t\\t{rate:.2f}\\t{quantity}\\t\\t{total:.2f}\")\n",
    "    elif food==5:\n",
    "        quantity=int(input(\"enter the quantity\"))\n",
    "        item,rate=vada()\n",
    "        total=rate*quantity\n",
    "        grand_Total+=total\n",
    "        print(f\"{sl_no:02d}\\t{item}\\t\\t{rate:.2f}\\t{quantity}\\t\\t{total:.2f}\")\n",
    "    elif food==6:\n",
    "        print(\"Thank you for ordering\")\n",
    "        break\n",
    "    else:\n",
    "        food=int(input(\"select the mentioned food items:\\n1-Idly\\n2-Dosa\\n3-poori\\n4-pongal\\n5-vada\\nDone Ordering\"))\n",
    "    sl_no+=1\n",
    "print(f\"Grand Total:{grand_Total:.2f}\")\n"
   ]
  },
  {
   "cell_type": "code",
   "execution_count": null,
   "metadata": {},
   "outputs": [],
   "source": []
  }
 ],
 "metadata": {
  "kernelspec": {
   "display_name": "venv",
   "language": "python",
   "name": "python3"
  },
  "language_info": {
   "codemirror_mode": {
    "name": "ipython",
    "version": 3
   },
   "file_extension": ".py",
   "mimetype": "text/x-python",
   "name": "python",
   "nbconvert_exporter": "python",
   "pygments_lexer": "ipython3",
   "version": "3.12.0"
  }
 },
 "nbformat": 4,
 "nbformat_minor": 2
}
