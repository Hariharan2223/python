{
 "cells": [
  {
   "cell_type": "code",
   "execution_count": 13,
   "metadata": {},
   "outputs": [
    {
     "name": "stdout",
     "output_type": "stream",
     "text": [
      "name: hari <class 'str'>\n",
      "age: 22 <class 'int'>\n",
      "yop: 2023 <class 'int'>\n",
      "degree: B.Tech-IT <class 'str'>\n",
      "percentage: 85.2 <class 'float'>\n",
      "isemployed: True <class 'bool'>\n",
      "gender: male <class 'str'>\n",
      "interest: ['cricket', 'table tennis'] <class 'list'>\n",
      "hobbies: {'sports', 'gaming', 'cooking'} <class 'set'>\n",
      "parents: {'father': 'Dharmalingam', 'mother': 'Anuradha'} <class 'dict'>\n",
      "friends: ('buvi', 'kowsalya', 'abi', 'joe') <class 'tuple'>\n",
      "salary: (10000+100000j) <class 'complex'>\n"
     ]
    }
   ],
   "source": [
    "name=\"hari\"\n",
    "age=22\n",
    "yop=2023\n",
    "salary=10000+100000j\n",
    "degree=\"B.Tech-IT\"\n",
    "percentage=85.2\n",
    "isemployed=True\n",
    "gender=\"male\"\n",
    "interest=[\"cricket\",\"table tennis\",\"kabaddi\",\"badminton\"]\n",
    "friends=(\"buvi\",\"kowsalya\",\"abi\",\"joe\")\n",
    "hobbies={\"sports\",\"gaming\",\"cooking\",\"gaming\"}\n",
    "parents={\"father\":\"Dharmalingam\",\"mother\":\"Anuradha\"}\n",
    "print(\"name:\",name,type(name))\n",
    "print(\"age:\",age,type(age))\n",
    "print(\"yop:\",yop,type(yop))\n",
    "print(\"degree:\",degree,type(degree))\n",
    "print(\"percentage:\",percentage,type(percentage))\n",
    "print(\"isemployed:\",isemployed,type(isemployed))\n",
    "print(\"gender:\",gender,type(gender))\n",
    "print(\"interest:\",interest,type(interest))\n",
    "print(\"hobbies:\",hobbies,type(hobbies))\n",
    "print(\"parents:\",parents,type(parents))\n",
    "print(\"friends:\",friends,type(friends))\n",
    "print(\"salary:\",salary,type(salary))"
   ]
  },
  {
   "cell_type": "code",
   "execution_count": null,
   "metadata": {},
   "outputs": [],
   "source": []
  }
 ],
 "metadata": {
  "kernelspec": {
   "display_name": "venv",
   "language": "python",
   "name": "python3"
  },
  "language_info": {
   "codemirror_mode": {
    "name": "ipython",
    "version": 3
   },
   "file_extension": ".py",
   "mimetype": "text/x-python",
   "name": "python",
   "nbconvert_exporter": "python",
   "pygments_lexer": "ipython3",
   "version": "3.12.0"
  }
 },
 "nbformat": 4,
 "nbformat_minor": 2
}
