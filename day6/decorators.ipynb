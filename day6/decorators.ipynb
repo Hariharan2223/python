{
 "cells": [
  {
   "cell_type": "markdown",
   "metadata": {},
   "source": [
    "### 1.Functions can be assigned to a variable (1st type of decorators)\n",
    "\n",
    "#### IN this we will be assign function name to a variable.if we want to call that function means we will call using variable."
   ]
  },
  {
   "cell_type": "code",
   "execution_count": null,
   "metadata": {},
   "outputs": [],
   "source": [
    "def greet(name):\n",
    "    return f\"hi {name}\"\n",
    "\n",
    "greet_me=greet\n",
    "print(greet_me(\"hari\"))"
   ]
  },
  {
   "cell_type": "markdown",
   "metadata": {},
   "source": [
    "\n",
    "### 2.Function can be returned from a function(2nd type of decorator)"
   ]
  },
  {
   "cell_type": "code",
   "execution_count": null,
   "metadata": {},
   "outputs": [],
   "source": [
    "\n",
    "def greet1():\n",
    "    def greet(name):\n",
    "        print(\"hi\")\n",
    "        return f\"hi {name}\"\n",
    "    return greet\n",
    "\n",
    "greet_me=greet1()\n",
    "print(greet_me(\"hari\"))\n",
    "\n",
    "\n"
   ]
  },
  {
   "cell_type": "code",
   "execution_count": null,
   "metadata": {},
   "outputs": [],
   "source": [
    "def greet1(n):\n",
    "    def greet(name):\n",
    "        print(\"hi\")\n",
    "        return f\"hi {name}\"\n",
    "    return greet(n)\n",
    "\n",
    "greet_me=greet1\n",
    "print(greet_me(\"hari\"))"
   ]
  },
  {
   "cell_type": "code",
   "execution_count": null,
   "metadata": {},
   "outputs": [],
   "source": [
    "def greet1(n):\n",
    "    def greet(name):\n",
    "        print(\"hi\")\n",
    "        def greet2(name1):\n",
    "            print(\"hello\")\n",
    "            return f\"hi {name1}\"\n",
    "        return greet2(name)\n",
    "    return greet(n)\n",
    "\n",
    "greet_me=greet1\n",
    "print(greet_me(\"hari\"))"
   ]
  },
  {
   "cell_type": "markdown",
   "metadata": {},
   "source": [
    "### 3.Function can be passed as an Argument"
   ]
  },
  {
   "cell_type": "code",
   "execution_count": null,
   "metadata": {},
   "outputs": [],
   "source": [
    "def greet(func):\n",
    "    def greeters():\n",
    "        print(\"hi\")\n",
    "        func()\n",
    "        print(\"welcome\")\n",
    "    return greeters\n",
    "\n",
    "def name():\n",
    "    print(\"Hari\")\n",
    "\n",
    "res=greet(name)\n",
    "res()\n"
   ]
  },
  {
   "cell_type": "code",
   "execution_count": null,
   "metadata": {},
   "outputs": [],
   "source": [
    "def greet(func):\n",
    "    def greeters(name):\n",
    "        print(\"hi\")\n",
    "        func(name)\n",
    "        print(\"welcome\")\n",
    "    return greeters\n",
    "\n",
    "@greet\n",
    "def name(name):\n",
    "    print(name)\n",
    "\n",
    "name(\"hari\")"
   ]
  },
  {
   "cell_type": "code",
   "execution_count": null,
   "metadata": {},
   "outputs": [],
   "source": [
    "def divi(hi):\n",
    "    def divi1(n):\n",
    "        if n%10==0:\n",
    "            print(f\"the number {n} is ending with 0\")\n",
    "        else:\n",
    "            print(f\"the number {n} is not ending with 0\")\n",
    "        hi(n)\n",
    "    return divi1\n",
    "\n",
    "@divi\n",
    "def calc(n):\n",
    "    print(\"hi\")\n",
    "\n",
    "calc(int(input(\"enter the number\")))"
   ]
  },
  {
   "cell_type": "markdown",
   "metadata": {},
   "source": [
    "#### using decorators check all the items in a array is a integers or not"
   ]
  },
  {
   "cell_type": "code",
   "execution_count": 30,
   "metadata": {},
   "outputs": [
    {
     "name": "stdout",
     "output_type": "stream",
     "text": [
      "the array u have given has values other than integers\n"
     ]
    }
   ],
   "source": [
    "def check(func):\n",
    "    def wrapper(n):\n",
    "        num=[]\n",
    "        for i in n:\n",
    "            if type(i)==int:\n",
    "                num+=[i]\n",
    "            else:\n",
    "                pass\n",
    "        func(num)\n",
    "    return wrapper\n",
    "    \n",
    "@check\n",
    "def hi(arr):\n",
    "    if len(arr)==len(a):\n",
    "        for i in arr:\n",
    "            print(i**2)\n",
    "    else:\n",
    "        print(\"the array u have given has values other than integers\")\n",
    "a=[1,2,3,4,\"ji\"]\n",
    "hi(a)"
   ]
  },
  {
   "cell_type": "code",
   "execution_count": null,
   "metadata": {},
   "outputs": [],
   "source": [
    "n=\"hi\"\n",
    "if type(n)==int:\n",
    "    print(\"ji\")"
   ]
  }
 ],
 "metadata": {
  "kernelspec": {
   "display_name": "venv",
   "language": "python",
   "name": "python3"
  },
  "language_info": {
   "codemirror_mode": {
    "name": "ipython",
    "version": 3
   },
   "file_extension": ".py",
   "mimetype": "text/x-python",
   "name": "python",
   "nbconvert_exporter": "python",
   "pygments_lexer": "ipython3",
   "version": "3.12.0"
  }
 },
 "nbformat": 4,
 "nbformat_minor": 2
}
