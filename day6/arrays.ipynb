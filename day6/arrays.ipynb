{
 "cells": [
  {
   "cell_type": "code",
   "execution_count": 1,
   "metadata": {},
   "outputs": [],
   "source": [
    "import array as arr\n",
    "\n",
    "int_arr1=arr.array(\"f\",[])\n",
    "int_arr2=arr.array(\"f\",[])\n",
    "\n",
    "\n",
    "\n"
   ]
  },
  {
   "cell_type": "code",
   "execution_count": 2,
   "metadata": {},
   "outputs": [
    {
     "name": "stdout",
     "output_type": "stream",
     "text": [
      "array('f', [2.4000000953674316, 3.5, 4.599999904632568, 5.699999809265137, 6.800000190734863])\n"
     ]
    }
   ],
   "source": [
    "int_arr1.insert(0,2.4)\n",
    "int_arr1.insert(1,3.5)\n",
    "int_arr1.insert(2,4.6)\n",
    "int_arr1.insert(3,5.7)\n",
    "int_arr1.insert(4,6.8)\n",
    "print(int_arr1)"
   ]
  },
  {
   "cell_type": "code",
   "execution_count": 3,
   "metadata": {},
   "outputs": [
    {
     "name": "stdout",
     "output_type": "stream",
     "text": [
      "array('f', [9.100000381469727, 8.199999809265137, 7.300000190734863, 6.400000095367432, 5.090000152587891])\n"
     ]
    }
   ],
   "source": [
    "int_arr2.append(9.1)\n",
    "int_arr2.append(8.2)\n",
    "int_arr2.append(7.3)\n",
    "int_arr2.append(6.4)\n",
    "int_arr2.append(5.09)\n",
    "print(int_arr2)"
   ]
  },
  {
   "cell_type": "code",
   "execution_count": 4,
   "metadata": {},
   "outputs": [],
   "source": [
    "a=[2.3,6.9,5.5,3.9,2.8]\n",
    "b=[1.9,2.8,3.7,4.6,5.5]\n",
    "int_arr1.extend(a)\n",
    "int_arr2.extend(b)\n",
    "\n"
   ]
  },
  {
   "cell_type": "code",
   "execution_count": 5,
   "metadata": {},
   "outputs": [
    {
     "name": "stdout",
     "output_type": "stream",
     "text": [
      "the element 2.40  is in 0 position\n",
      "the element 3.50  is in 1 position\n",
      "the element 4.60  is in 2 position\n",
      "the element 5.70  is in 3 position\n",
      "the element 6.80  is in 4 position\n",
      "the element 2.30  is in 5 position\n",
      "the element 6.90  is in 6 position\n",
      "the element 5.50  is in 7 position\n",
      "the element 3.90  is in 8 position\n",
      "the element 2.80  is in 9 position\n"
     ]
    }
   ],
   "source": [
    "for i in int_arr1:\n",
    "    print(f\"the element {i:.2f}  is in {int_arr1.index(i)} position\")"
   ]
  },
  {
   "cell_type": "code",
   "execution_count": 6,
   "metadata": {},
   "outputs": [
    {
     "name": "stdout",
     "output_type": "stream",
     "text": [
      "the element 9.10  is in 0 position\n",
      "the element 8.20  is in 1 position\n",
      "the element 7.30  is in 2 position\n",
      "the element 6.40  is in 3 position\n",
      "the element 5.09  is in 4 position\n",
      "the element 1.90  is in 5 position\n",
      "the element 2.80  is in 6 position\n",
      "the element 3.70  is in 7 position\n",
      "the element 4.60  is in 8 position\n",
      "the element 5.50  is in 9 position\n"
     ]
    }
   ],
   "source": [
    "for i in int_arr2:\n",
    "    print(f\"the element {i:.2f}  is in {int_arr2.index(i)} position\")"
   ]
  },
  {
   "cell_type": "code",
   "execution_count": 7,
   "metadata": {},
   "outputs": [
    {
     "name": "stdout",
     "output_type": "stream",
     "text": [
      "array('f', [2.4000000953674316, 3.5, 4.599999904632568, 5.699999809265137, 6.800000190734863, 2.299999952316284, 6.900000095367432, 5.5, 3.9000000953674316, 2.799999952316284])\n"
     ]
    }
   ],
   "source": [
    "print(int_arr1)\n",
    "# int_arr1.pop(4)\n",
    "# int_arr1.remove(5.699999809265137)"
   ]
  },
  {
   "cell_type": "code",
   "execution_count": 8,
   "metadata": {},
   "outputs": [],
   "source": [
    "for i in range(len(int_arr1)):\n",
    "   int_arr1.pop()"
   ]
  },
  {
   "cell_type": "code",
   "execution_count": 9,
   "metadata": {},
   "outputs": [
    {
     "name": "stdout",
     "output_type": "stream",
     "text": [
      "array('f')\n"
     ]
    }
   ],
   "source": [
    "print(int_arr1)"
   ]
  },
  {
   "cell_type": "code",
   "execution_count": null,
   "metadata": {},
   "outputs": [],
   "source": []
  }
 ],
 "metadata": {
  "kernelspec": {
   "display_name": "venv",
   "language": "python",
   "name": "python3"
  },
  "language_info": {
   "codemirror_mode": {
    "name": "ipython",
    "version": 3
   },
   "file_extension": ".py",
   "mimetype": "text/x-python",
   "name": "python",
   "nbconvert_exporter": "python",
   "pygments_lexer": "ipython3",
   "version": "3.12.0"
  }
 },
 "nbformat": 4,
 "nbformat_minor": 2
}
