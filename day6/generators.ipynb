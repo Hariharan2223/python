{
 "cells": [
  {
   "cell_type": "code",
   "execution_count": 9,
   "metadata": {},
   "outputs": [],
   "source": [
    "def arith_generators(num):\n",
    "    for i in num:\n",
    "        yield i*i\n",
    "        yield i+i\n",
    "        yield i/i\n",
    "\n",
    "a=[1,2,3,4,5]\n",
    "res=arith_generators(a)\n"
   ]
  },
  {
   "cell_type": "code",
   "execution_count": 10,
   "metadata": {},
   "outputs": [
    {
     "name": "stdout",
     "output_type": "stream",
     "text": [
      "1\n",
      "2\n",
      "1.0\n",
      "4\n",
      "4\n",
      "1.0\n",
      "9\n",
      "6\n",
      "1.0\n",
      "16\n",
      "8\n",
      "1.0\n",
      "25\n",
      "10\n",
      "1.0\n"
     ]
    }
   ],
   "source": [
    "for i in res:\n",
    "    print(i)"
   ]
  },
  {
   "cell_type": "code",
   "execution_count": 6,
   "metadata": {},
   "outputs": [
    {
     "name": "stdout",
     "output_type": "stream",
     "text": [
      "1\n",
      "<set_iterator object at 0x0000018FAC738140>\n",
      "2\n"
     ]
    }
   ],
   "source": [
    "a=iter({1,2,3,4,5})\n",
    "b=next(a)\n",
    "d=repr(a)\n",
    "print(b)\n",
    "print(d)\n",
    "c=next(a)\n",
    "print(c)\n"
   ]
  },
  {
   "cell_type": "code",
   "execution_count": null,
   "metadata": {},
   "outputs": [],
   "source": []
  },
  {
   "cell_type": "code",
   "execution_count": null,
   "metadata": {},
   "outputs": [],
   "source": []
  }
 ],
 "metadata": {
  "kernelspec": {
   "display_name": "venv",
   "language": "python",
   "name": "python3"
  },
  "language_info": {
   "codemirror_mode": {
    "name": "ipython",
    "version": 3
   },
   "file_extension": ".py",
   "mimetype": "text/x-python",
   "name": "python",
   "nbconvert_exporter": "python",
   "pygments_lexer": "ipython3",
   "version": "3.12.0"
  }
 },
 "nbformat": 4,
 "nbformat_minor": 2
}
