{
 "cells": [
  {
   "cell_type": "code",
   "execution_count": 4,
   "metadata": {},
   "outputs": [
    {
     "name": "stdout",
     "output_type": "stream",
     "text": [
      "select a valid option\n",
      "subtraction of 2 and 10 is 8\n"
     ]
    }
   ],
   "source": [
    "from calc1 import *\n",
    "\n",
    "inp=True\n",
    "while inp:\n",
    "    operation=int(input(\"please select operation to be performed:\\n 1-Addition\\n 2-subtraction\\n3-Multiplication\\n4-division\\n5-percentage\\n 6-stop\"))\n",
    "    if(operation==1):\n",
    "        a=int(input(\"Enter the First Number\"))\n",
    "        b=int(input(\"Enter the second Number\"))\n",
    "        res=add(a,b)\n",
    "        print(\"addition of\",a,\"and\",b,\"is\",res)\n",
    "       \n",
    "    elif(operation==2):\n",
    "        a=int(input(\"Enter the First Number\"))\n",
    "        b=int(input(\"Enter the second Number\"))\n",
    "        res=sub(a,b)\n",
    "        print(\"subtraction of\",a,\"and\",b,\"is\",res)\n",
    "        \n",
    "    elif(operation==3):\n",
    "        a=int(input(\"Enter the First Number\"))\n",
    "        b=int(input(\"Enter the second Number\"))\n",
    "        res=mul(a,b)\n",
    "        print(\"multiplication of\",a,\"and\",b,\"is\",res)\n",
    "        \n",
    "    elif(operation==4):\n",
    "        a=int(input(\"Enter the numerator\"))\n",
    "        b=int(input(\"Enter the denominator\"))\n",
    "        if(b==0):\n",
    "            print(\"denominator cannot be zero\")\n",
    "            b=int(input(\"Enter the denominator\"))\n",
    "        res=div(a,b)\n",
    "        print(\"division of\",a,\"and\",b,\"is\",res)\n",
    "        \n",
    "    elif(operation==5):\n",
    "        a=int(input(\"Enter the percentage\"))\n",
    "        b=int(input(\"Enter the value to which percentage has to be calculated\"))\n",
    "        res=percentage(a,b)\n",
    "        print(\"addition of\",a,\"and\",b,\"is\",res)\n",
    "        \n",
    "    elif(operation==6):\n",
    "        inp=False\n",
    "        break\n",
    "    else:\n",
    "        print(\"select a valid option\")\n",
    "        \n",
    "    \n",
    "\n",
    "        \n",
    "        "
   ]
  }
 ],
 "metadata": {
  "kernelspec": {
   "display_name": "venv",
   "language": "python",
   "name": "python3"
  },
  "language_info": {
   "codemirror_mode": {
    "name": "ipython",
    "version": 3
   },
   "file_extension": ".py",
   "mimetype": "text/x-python",
   "name": "python",
   "nbconvert_exporter": "python",
   "pygments_lexer": "ipython3",
   "version": "3.12.0"
  }
 },
 "nbformat": 4,
 "nbformat_minor": 2
}
